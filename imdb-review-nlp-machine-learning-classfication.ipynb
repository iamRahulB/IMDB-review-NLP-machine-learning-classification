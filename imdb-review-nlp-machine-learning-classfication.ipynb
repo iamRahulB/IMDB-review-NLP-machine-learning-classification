{
 "cells": [
  {
   "cell_type": "code",
   "execution_count": 1,
   "id": "98ad6280",
   "metadata": {
    "_cell_guid": "b1076dfc-b9ad-4769-8c92-a6c4dae69d19",
    "_uuid": "8f2839f25d086af736a60e9eeb907d3b93b6e0e5",
    "execution": {
     "iopub.execute_input": "2024-02-15T12:22:32.542390Z",
     "iopub.status.busy": "2024-02-15T12:22:32.541967Z",
     "iopub.status.idle": "2024-02-15T12:22:34.993047Z",
     "shell.execute_reply": "2024-02-15T12:22:34.991746Z"
    },
    "papermill": {
     "duration": 2.464429,
     "end_time": "2024-02-15T12:22:34.995709",
     "exception": false,
     "start_time": "2024-02-15T12:22:32.531280",
     "status": "completed"
    },
    "tags": []
   },
   "outputs": [],
   "source": [
    "import pandas as pd\n",
    "import numpy as np\n",
    "from sklearn.ensemble import RandomForestClassifier\n"
   ]
  },
  {
   "cell_type": "code",
   "execution_count": 2,
   "id": "a2f6da42",
   "metadata": {
    "execution": {
     "iopub.execute_input": "2024-02-15T12:22:35.014051Z",
     "iopub.status.busy": "2024-02-15T12:22:35.013100Z",
     "iopub.status.idle": "2024-02-15T12:22:36.481150Z",
     "shell.execute_reply": "2024-02-15T12:22:36.479790Z"
    },
    "papermill": {
     "duration": 1.479802,
     "end_time": "2024-02-15T12:22:36.483687",
     "exception": false,
     "start_time": "2024-02-15T12:22:35.003885",
     "status": "completed"
    },
    "tags": []
   },
   "outputs": [],
   "source": [
    "# load the data\n",
    "temp_df=pd.read_csv(\"/kaggle/input/imdb-dataset-of-50k-movie-reviews/IMDB Dataset.csv\")"
   ]
  },
  {
   "cell_type": "code",
   "execution_count": 3,
   "id": "f379382d",
   "metadata": {
    "execution": {
     "iopub.execute_input": "2024-02-15T12:22:36.501788Z",
     "iopub.status.busy": "2024-02-15T12:22:36.500757Z",
     "iopub.status.idle": "2024-02-15T12:22:36.505805Z",
     "shell.execute_reply": "2024-02-15T12:22:36.505088Z"
    },
    "papermill": {
     "duration": 0.01607,
     "end_time": "2024-02-15T12:22:36.507720",
     "exception": false,
     "start_time": "2024-02-15T12:22:36.491650",
     "status": "completed"
    },
    "tags": []
   },
   "outputs": [],
   "source": [
    "df=temp_df.iloc[:10000]"
   ]
  },
  {
   "cell_type": "code",
   "execution_count": 4,
   "id": "de24a3e1",
   "metadata": {
    "execution": {
     "iopub.execute_input": "2024-02-15T12:22:36.526392Z",
     "iopub.status.busy": "2024-02-15T12:22:36.525390Z",
     "iopub.status.idle": "2024-02-15T12:22:36.549364Z",
     "shell.execute_reply": "2024-02-15T12:22:36.548084Z"
    },
    "papermill": {
     "duration": 0.035881,
     "end_time": "2024-02-15T12:22:36.551706",
     "exception": false,
     "start_time": "2024-02-15T12:22:36.515825",
     "status": "completed"
    },
    "tags": []
   },
   "outputs": [
    {
     "data": {
      "text/html": [
       "<div>\n",
       "<style scoped>\n",
       "    .dataframe tbody tr th:only-of-type {\n",
       "        vertical-align: middle;\n",
       "    }\n",
       "\n",
       "    .dataframe tbody tr th {\n",
       "        vertical-align: top;\n",
       "    }\n",
       "\n",
       "    .dataframe thead th {\n",
       "        text-align: right;\n",
       "    }\n",
       "</style>\n",
       "<table border=\"1\" class=\"dataframe\">\n",
       "  <thead>\n",
       "    <tr style=\"text-align: right;\">\n",
       "      <th></th>\n",
       "      <th>review</th>\n",
       "      <th>sentiment</th>\n",
       "    </tr>\n",
       "  </thead>\n",
       "  <tbody>\n",
       "    <tr>\n",
       "      <th>0</th>\n",
       "      <td>One of the other reviewers has mentioned that ...</td>\n",
       "      <td>positive</td>\n",
       "    </tr>\n",
       "    <tr>\n",
       "      <th>1</th>\n",
       "      <td>A wonderful little production. &lt;br /&gt;&lt;br /&gt;The...</td>\n",
       "      <td>positive</td>\n",
       "    </tr>\n",
       "    <tr>\n",
       "      <th>2</th>\n",
       "      <td>I thought this was a wonderful way to spend ti...</td>\n",
       "      <td>positive</td>\n",
       "    </tr>\n",
       "    <tr>\n",
       "      <th>3</th>\n",
       "      <td>Basically there's a family where a little boy ...</td>\n",
       "      <td>negative</td>\n",
       "    </tr>\n",
       "    <tr>\n",
       "      <th>4</th>\n",
       "      <td>Petter Mattei's \"Love in the Time of Money\" is...</td>\n",
       "      <td>positive</td>\n",
       "    </tr>\n",
       "  </tbody>\n",
       "</table>\n",
       "</div>"
      ],
      "text/plain": [
       "                                              review sentiment\n",
       "0  One of the other reviewers has mentioned that ...  positive\n",
       "1  A wonderful little production. <br /><br />The...  positive\n",
       "2  I thought this was a wonderful way to spend ti...  positive\n",
       "3  Basically there's a family where a little boy ...  negative\n",
       "4  Petter Mattei's \"Love in the Time of Money\" is...  positive"
      ]
     },
     "execution_count": 4,
     "metadata": {},
     "output_type": "execute_result"
    }
   ],
   "source": [
    "df.head(5)"
   ]
  },
  {
   "cell_type": "code",
   "execution_count": 5,
   "id": "fbad0694",
   "metadata": {
    "execution": {
     "iopub.execute_input": "2024-02-15T12:22:36.569623Z",
     "iopub.status.busy": "2024-02-15T12:22:36.569240Z",
     "iopub.status.idle": "2024-02-15T12:22:36.625443Z",
     "shell.execute_reply": "2024-02-15T12:22:36.624314Z"
    },
    "papermill": {
     "duration": 0.068128,
     "end_time": "2024-02-15T12:22:36.628200",
     "exception": false,
     "start_time": "2024-02-15T12:22:36.560072",
     "status": "completed"
    },
    "tags": []
   },
   "outputs": [
    {
     "name": "stdout",
     "output_type": "stream",
     "text": [
      " Check for Null values ? : \n",
      "review       0\n",
      "sentiment    0\n",
      "dtype: int64\n",
      "\n",
      "Check for duplicates : 17\n"
     ]
    }
   ],
   "source": [
    "print(f\" Check for Null values ? : \\n{df.isnull().sum()}\\n\")\n",
    "\n",
    "print(f\"Check for duplicates :\" , df.duplicated().sum())"
   ]
  },
  {
   "cell_type": "code",
   "execution_count": 6,
   "id": "5ebd2bb0",
   "metadata": {
    "execution": {
     "iopub.execute_input": "2024-02-15T12:22:36.646704Z",
     "iopub.status.busy": "2024-02-15T12:22:36.646319Z",
     "iopub.status.idle": "2024-02-15T12:22:36.726389Z",
     "shell.execute_reply": "2024-02-15T12:22:36.725269Z"
    },
    "papermill": {
     "duration": 0.092042,
     "end_time": "2024-02-15T12:22:36.728636",
     "exception": false,
     "start_time": "2024-02-15T12:22:36.636594",
     "status": "completed"
    },
    "tags": []
   },
   "outputs": [
    {
     "name": "stderr",
     "output_type": "stream",
     "text": [
      "/tmp/ipykernel_17/2549609413.py:2: SettingWithCopyWarning: \n",
      "A value is trying to be set on a copy of a slice from a DataFrame\n",
      "\n",
      "See the caveats in the documentation: https://pandas.pydata.org/pandas-docs/stable/user_guide/indexing.html#returning-a-view-versus-a-copy\n",
      "  df.drop_duplicates(inplace=True)\n"
     ]
    },
    {
     "data": {
      "text/plain": [
       "0"
      ]
     },
     "execution_count": 6,
     "metadata": {},
     "output_type": "execute_result"
    }
   ],
   "source": [
    "# we will drop duplicates now\n",
    "df.drop_duplicates(inplace=True)\n",
    "\n",
    "# print duplicates if any\n",
    "df.duplicated().sum()"
   ]
  },
  {
   "cell_type": "code",
   "execution_count": 7,
   "id": "042c8bda",
   "metadata": {
    "execution": {
     "iopub.execute_input": "2024-02-15T12:22:36.746959Z",
     "iopub.status.busy": "2024-02-15T12:22:36.746581Z",
     "iopub.status.idle": "2024-02-15T12:22:36.750671Z",
     "shell.execute_reply": "2024-02-15T12:22:36.749565Z"
    },
    "papermill": {
     "duration": 0.016136,
     "end_time": "2024-02-15T12:22:36.753086",
     "exception": false,
     "start_time": "2024-02-15T12:22:36.736950",
     "status": "completed"
    },
    "tags": []
   },
   "outputs": [],
   "source": [
    "import re"
   ]
  },
  {
   "cell_type": "code",
   "execution_count": 8,
   "id": "039940fe",
   "metadata": {
    "execution": {
     "iopub.execute_input": "2024-02-15T12:22:36.772404Z",
     "iopub.status.busy": "2024-02-15T12:22:36.772004Z",
     "iopub.status.idle": "2024-02-15T12:22:36.777128Z",
     "shell.execute_reply": "2024-02-15T12:22:36.775962Z"
    },
    "papermill": {
     "duration": 0.016799,
     "end_time": "2024-02-15T12:22:36.779177",
     "exception": false,
     "start_time": "2024-02-15T12:22:36.762378",
     "status": "completed"
    },
    "tags": []
   },
   "outputs": [],
   "source": [
    "def tag_remove(text):\n",
    "    cleaned=re.sub(\"<.*?>\",\"\",text)\n",
    "    \n",
    "    return cleaned\n",
    "    "
   ]
  },
  {
   "cell_type": "code",
   "execution_count": 9,
   "id": "3f2629c9",
   "metadata": {
    "execution": {
     "iopub.execute_input": "2024-02-15T12:22:36.798322Z",
     "iopub.status.busy": "2024-02-15T12:22:36.797443Z",
     "iopub.status.idle": "2024-02-15T12:22:36.843620Z",
     "shell.execute_reply": "2024-02-15T12:22:36.842124Z"
    },
    "papermill": {
     "duration": 0.058103,
     "end_time": "2024-02-15T12:22:36.845814",
     "exception": false,
     "start_time": "2024-02-15T12:22:36.787711",
     "status": "completed"
    },
    "tags": []
   },
   "outputs": [
    {
     "name": "stderr",
     "output_type": "stream",
     "text": [
      "/tmp/ipykernel_17/131045155.py:2: SettingWithCopyWarning: \n",
      "A value is trying to be set on a copy of a slice from a DataFrame.\n",
      "Try using .loc[row_indexer,col_indexer] = value instead\n",
      "\n",
      "See the caveats in the documentation: https://pandas.pydata.org/pandas-docs/stable/user_guide/indexing.html#returning-a-view-versus-a-copy\n",
      "  df[\"review\"]=df[\"review\"].apply(tag_remove)\n"
     ]
    }
   ],
   "source": [
    "# remove tags as datset has some html tags also as its scraped data\n",
    "df[\"review\"]=df[\"review\"].apply(tag_remove)"
   ]
  },
  {
   "cell_type": "code",
   "execution_count": 10,
   "id": "85599db2",
   "metadata": {
    "execution": {
     "iopub.execute_input": "2024-02-15T12:22:36.865534Z",
     "iopub.status.busy": "2024-02-15T12:22:36.863831Z",
     "iopub.status.idle": "2024-02-15T12:22:36.868944Z",
     "shell.execute_reply": "2024-02-15T12:22:36.868243Z"
    },
    "papermill": {
     "duration": 0.01681,
     "end_time": "2024-02-15T12:22:36.871179",
     "exception": false,
     "start_time": "2024-02-15T12:22:36.854369",
     "status": "completed"
    },
    "tags": []
   },
   "outputs": [],
   "source": [
    "# check if dataset has tags ?\n",
    "\n",
    "def check_tags(text):\n",
    "    if re.search(\"<.*?>\",text):\n",
    "        return True"
   ]
  },
  {
   "cell_type": "code",
   "execution_count": 11,
   "id": "aea98d46",
   "metadata": {
    "execution": {
     "iopub.execute_input": "2024-02-15T12:22:36.890286Z",
     "iopub.status.busy": "2024-02-15T12:22:36.889892Z",
     "iopub.status.idle": "2024-02-15T12:22:36.913134Z",
     "shell.execute_reply": "2024-02-15T12:22:36.912390Z"
    },
    "papermill": {
     "duration": 0.035172,
     "end_time": "2024-02-15T12:22:36.915086",
     "exception": false,
     "start_time": "2024-02-15T12:22:36.879914",
     "status": "completed"
    },
    "tags": []
   },
   "outputs": [
    {
     "data": {
      "text/plain": [
       "0"
      ]
     },
     "execution_count": 11,
     "metadata": {},
     "output_type": "execute_result"
    }
   ],
   "source": [
    "df[\"review\"].apply(check_tags).sum()  \n",
    "# tags removed"
   ]
  },
  {
   "cell_type": "code",
   "execution_count": 12,
   "id": "f5f80798",
   "metadata": {
    "execution": {
     "iopub.execute_input": "2024-02-15T12:22:36.934712Z",
     "iopub.status.busy": "2024-02-15T12:22:36.933808Z",
     "iopub.status.idle": "2024-02-15T12:22:36.981535Z",
     "shell.execute_reply": "2024-02-15T12:22:36.980809Z"
    },
    "papermill": {
     "duration": 0.060317,
     "end_time": "2024-02-15T12:22:36.984047",
     "exception": false,
     "start_time": "2024-02-15T12:22:36.923730",
     "status": "completed"
    },
    "tags": []
   },
   "outputs": [
    {
     "name": "stderr",
     "output_type": "stream",
     "text": [
      "/tmp/ipykernel_17/3085173311.py:2: SettingWithCopyWarning: \n",
      "A value is trying to be set on a copy of a slice from a DataFrame.\n",
      "Try using .loc[row_indexer,col_indexer] = value instead\n",
      "\n",
      "See the caveats in the documentation: https://pandas.pydata.org/pandas-docs/stable/user_guide/indexing.html#returning-a-view-versus-a-copy\n",
      "  df[\"review\"]=df[\"review\"].apply(lambda x:x.lower())\n"
     ]
    }
   ],
   "source": [
    "#  make all lowercase\n",
    "df[\"review\"]=df[\"review\"].apply(lambda x:x.lower())"
   ]
  },
  {
   "cell_type": "code",
   "execution_count": 13,
   "id": "e4c7ae5e",
   "metadata": {
    "execution": {
     "iopub.execute_input": "2024-02-15T12:22:37.003089Z",
     "iopub.status.busy": "2024-02-15T12:22:37.002235Z",
     "iopub.status.idle": "2024-02-15T12:22:37.521532Z",
     "shell.execute_reply": "2024-02-15T12:22:37.520548Z"
    },
    "papermill": {
     "duration": 0.531263,
     "end_time": "2024-02-15T12:22:37.523833",
     "exception": false,
     "start_time": "2024-02-15T12:22:36.992570",
     "status": "completed"
    },
    "tags": []
   },
   "outputs": [
    {
     "name": "stdout",
     "output_type": "stream",
     "text": [
      "['i', 'me', 'my', 'myself', 'we', 'our', 'ours', 'ourselves', 'you', \"you're\", \"you've\", \"you'll\", \"you'd\", 'your', 'yours', 'yourself', 'yourselves', 'he', 'him', 'his', 'himself', 'she', \"she's\", 'her', 'hers', 'herself', 'it', \"it's\", 'its', 'itself', 'they', 'them', 'their', 'theirs', 'themselves', 'what', 'which', 'who', 'whom', 'this', 'that', \"that'll\", 'these', 'those', 'am', 'is', 'are', 'was', 'were', 'be', 'been', 'being', 'have', 'has', 'had', 'having', 'do', 'does', 'did', 'doing', 'a', 'an', 'the', 'and', 'but', 'if', 'or', 'because', 'as', 'until', 'while', 'of', 'at', 'by', 'for', 'with', 'about', 'against', 'between', 'into', 'through', 'during', 'before', 'after', 'above', 'below', 'to', 'from', 'up', 'down', 'in', 'out', 'on', 'off', 'over', 'under', 'again', 'further', 'then', 'once', 'here', 'there', 'when', 'where', 'why', 'how', 'all', 'any', 'both', 'each', 'few', 'more', 'most', 'other', 'some', 'such', 'no', 'nor', 'not', 'only', 'own', 'same', 'so', 'than', 'too', 'very', 's', 't', 'can', 'will', 'just', 'don', \"don't\", 'should', \"should've\", 'now', 'd', 'll', 'm', 'o', 're', 've', 'y', 'ain', 'aren', \"aren't\", 'couldn', \"couldn't\", 'didn', \"didn't\", 'doesn', \"doesn't\", 'hadn', \"hadn't\", 'hasn', \"hasn't\", 'haven', \"haven't\", 'isn', \"isn't\", 'ma', 'mightn', \"mightn't\", 'mustn', \"mustn't\", 'needn', \"needn't\", 'shan', \"shan't\", 'shouldn', \"shouldn't\", 'wasn', \"wasn't\", 'weren', \"weren't\", 'won', \"won't\", 'wouldn', \"wouldn't\"]\n"
     ]
    }
   ],
   "source": [
    "# remove stopwords\n",
    "from nltk.corpus import stopwords\n",
    "\n",
    "stop_list=stopwords.words(\"english\")\n",
    "print(stop_list)"
   ]
  },
  {
   "cell_type": "code",
   "execution_count": 14,
   "id": "92305947",
   "metadata": {
    "execution": {
     "iopub.execute_input": "2024-02-15T12:22:37.542776Z",
     "iopub.status.busy": "2024-02-15T12:22:37.542416Z",
     "iopub.status.idle": "2024-02-15T12:22:37.547670Z",
     "shell.execute_reply": "2024-02-15T12:22:37.546673Z"
    },
    "papermill": {
     "duration": 0.017248,
     "end_time": "2024-02-15T12:22:37.549760",
     "exception": false,
     "start_time": "2024-02-15T12:22:37.532512",
     "status": "completed"
    },
    "tags": []
   },
   "outputs": [],
   "source": [
    "def rem_stopwords(text):\n",
    "    all_word=[]\n",
    "    for word in text.split():\n",
    "        if word not in stop_list:\n",
    "            all_word.append(word)\n",
    "            \n",
    "            \n",
    "    return \" \".join(all_word)   \n",
    "        "
   ]
  },
  {
   "cell_type": "code",
   "execution_count": 15,
   "id": "89d2c96b",
   "metadata": {
    "execution": {
     "iopub.execute_input": "2024-02-15T12:22:37.568704Z",
     "iopub.status.busy": "2024-02-15T12:22:37.568121Z",
     "iopub.status.idle": "2024-02-15T12:22:41.863854Z",
     "shell.execute_reply": "2024-02-15T12:22:41.862709Z"
    },
    "papermill": {
     "duration": 4.307817,
     "end_time": "2024-02-15T12:22:41.866264",
     "exception": false,
     "start_time": "2024-02-15T12:22:37.558447",
     "status": "completed"
    },
    "tags": []
   },
   "outputs": [
    {
     "name": "stderr",
     "output_type": "stream",
     "text": [
      "/tmp/ipykernel_17/3390780991.py:2: SettingWithCopyWarning: \n",
      "A value is trying to be set on a copy of a slice from a DataFrame.\n",
      "Try using .loc[row_indexer,col_indexer] = value instead\n",
      "\n",
      "See the caveats in the documentation: https://pandas.pydata.org/pandas-docs/stable/user_guide/indexing.html#returning-a-view-versus-a-copy\n",
      "  df[\"review\"]=df[\"review\"].apply(rem_stopwords)\n"
     ]
    }
   ],
   "source": [
    "# stopwords removal done\n",
    "df[\"review\"]=df[\"review\"].apply(rem_stopwords)"
   ]
  },
  {
   "cell_type": "code",
   "execution_count": 16,
   "id": "e3788bd9",
   "metadata": {
    "execution": {
     "iopub.execute_input": "2024-02-15T12:22:41.885382Z",
     "iopub.status.busy": "2024-02-15T12:22:41.884966Z",
     "iopub.status.idle": "2024-02-15T12:22:41.889301Z",
     "shell.execute_reply": "2024-02-15T12:22:41.888253Z"
    },
    "papermill": {
     "duration": 0.016484,
     "end_time": "2024-02-15T12:22:41.891540",
     "exception": false,
     "start_time": "2024-02-15T12:22:41.875056",
     "status": "completed"
    },
    "tags": []
   },
   "outputs": [],
   "source": [
    "y=df[\"sentiment\"]"
   ]
  },
  {
   "cell_type": "code",
   "execution_count": 17,
   "id": "fa39c466",
   "metadata": {
    "execution": {
     "iopub.execute_input": "2024-02-15T12:22:41.910848Z",
     "iopub.status.busy": "2024-02-15T12:22:41.910173Z",
     "iopub.status.idle": "2024-02-15T12:22:41.914793Z",
     "shell.execute_reply": "2024-02-15T12:22:41.914063Z"
    },
    "papermill": {
     "duration": 0.016144,
     "end_time": "2024-02-15T12:22:41.916560",
     "exception": false,
     "start_time": "2024-02-15T12:22:41.900416",
     "status": "completed"
    },
    "tags": []
   },
   "outputs": [],
   "source": [
    "# encode target variable with label encoder  \n",
    "from sklearn.preprocessing import LabelEncoder\n"
   ]
  },
  {
   "cell_type": "code",
   "execution_count": 18,
   "id": "30c502b9",
   "metadata": {
    "execution": {
     "iopub.execute_input": "2024-02-15T12:22:41.935946Z",
     "iopub.status.busy": "2024-02-15T12:22:41.934952Z",
     "iopub.status.idle": "2024-02-15T12:22:41.941795Z",
     "shell.execute_reply": "2024-02-15T12:22:41.941071Z"
    },
    "papermill": {
     "duration": 0.018424,
     "end_time": "2024-02-15T12:22:41.943688",
     "exception": false,
     "start_time": "2024-02-15T12:22:41.925264",
     "status": "completed"
    },
    "tags": []
   },
   "outputs": [],
   "source": [
    "label=LabelEncoder()\n",
    "\n",
    "y=label.fit_transform(y)"
   ]
  },
  {
   "cell_type": "code",
   "execution_count": 19,
   "id": "fe31fa78",
   "metadata": {
    "execution": {
     "iopub.execute_input": "2024-02-15T12:22:41.963121Z",
     "iopub.status.busy": "2024-02-15T12:22:41.962288Z",
     "iopub.status.idle": "2024-02-15T12:22:41.968003Z",
     "shell.execute_reply": "2024-02-15T12:22:41.967252Z"
    },
    "papermill": {
     "duration": 0.01752,
     "end_time": "2024-02-15T12:22:41.969987",
     "exception": false,
     "start_time": "2024-02-15T12:22:41.952467",
     "status": "completed"
    },
    "tags": []
   },
   "outputs": [
    {
     "data": {
      "text/plain": [
       "array([1, 1, 1, ..., 0, 0, 1])"
      ]
     },
     "execution_count": 19,
     "metadata": {},
     "output_type": "execute_result"
    }
   ],
   "source": [
    "y"
   ]
  },
  {
   "cell_type": "code",
   "execution_count": 20,
   "id": "fff21f6a",
   "metadata": {
    "execution": {
     "iopub.execute_input": "2024-02-15T12:22:41.989758Z",
     "iopub.status.busy": "2024-02-15T12:22:41.989201Z",
     "iopub.status.idle": "2024-02-15T12:22:41.992907Z",
     "shell.execute_reply": "2024-02-15T12:22:41.992093Z"
    },
    "papermill": {
     "duration": 0.015546,
     "end_time": "2024-02-15T12:22:41.994776",
     "exception": false,
     "start_time": "2024-02-15T12:22:41.979230",
     "status": "completed"
    },
    "tags": []
   },
   "outputs": [],
   "source": [
    "# now split th data into train test\n",
    "\n",
    "from sklearn.model_selection import train_test_split"
   ]
  },
  {
   "cell_type": "code",
   "execution_count": 21,
   "id": "af9abeae",
   "metadata": {
    "execution": {
     "iopub.execute_input": "2024-02-15T12:22:42.014753Z",
     "iopub.status.busy": "2024-02-15T12:22:42.014058Z",
     "iopub.status.idle": "2024-02-15T12:22:42.019316Z",
     "shell.execute_reply": "2024-02-15T12:22:42.018438Z"
    },
    "papermill": {
     "duration": 0.017435,
     "end_time": "2024-02-15T12:22:42.021120",
     "exception": false,
     "start_time": "2024-02-15T12:22:42.003685",
     "status": "completed"
    },
    "tags": []
   },
   "outputs": [],
   "source": [
    "x=df.iloc[:,:-1]"
   ]
  },
  {
   "cell_type": "code",
   "execution_count": null,
   "id": "866b4fe1",
   "metadata": {
    "papermill": {
     "duration": 0.00847,
     "end_time": "2024-02-15T12:22:42.038434",
     "exception": false,
     "start_time": "2024-02-15T12:22:42.029964",
     "status": "completed"
    },
    "tags": []
   },
   "outputs": [],
   "source": []
  },
  {
   "cell_type": "code",
   "execution_count": 22,
   "id": "1724ec93",
   "metadata": {
    "execution": {
     "iopub.execute_input": "2024-02-15T12:22:42.058083Z",
     "iopub.status.busy": "2024-02-15T12:22:42.057665Z",
     "iopub.status.idle": "2024-02-15T12:22:42.066770Z",
     "shell.execute_reply": "2024-02-15T12:22:42.065642Z"
    },
    "papermill": {
     "duration": 0.021402,
     "end_time": "2024-02-15T12:22:42.068959",
     "exception": false,
     "start_time": "2024-02-15T12:22:42.047557",
     "status": "completed"
    },
    "tags": []
   },
   "outputs": [],
   "source": [
    "X_train,X_test,y_train,y_test=train_test_split(x,y,test_size=0.2,random_state=42)"
   ]
  },
  {
   "cell_type": "code",
   "execution_count": 23,
   "id": "a4a81b11",
   "metadata": {
    "execution": {
     "iopub.execute_input": "2024-02-15T12:22:42.088987Z",
     "iopub.status.busy": "2024-02-15T12:22:42.088406Z",
     "iopub.status.idle": "2024-02-15T12:22:42.093584Z",
     "shell.execute_reply": "2024-02-15T12:22:42.092548Z"
    },
    "papermill": {
     "duration": 0.017546,
     "end_time": "2024-02-15T12:22:42.095687",
     "exception": false,
     "start_time": "2024-02-15T12:22:42.078141",
     "status": "completed"
    },
    "tags": []
   },
   "outputs": [],
   "source": [
    "# apply bow\n",
    "\n",
    "from sklearn.feature_extraction.text import CountVectorizer\n",
    "bow=CountVectorizer()"
   ]
  },
  {
   "cell_type": "code",
   "execution_count": 24,
   "id": "dad527e2",
   "metadata": {
    "execution": {
     "iopub.execute_input": "2024-02-15T12:22:42.115446Z",
     "iopub.status.busy": "2024-02-15T12:22:42.115074Z",
     "iopub.status.idle": "2024-02-15T12:22:44.961502Z",
     "shell.execute_reply": "2024-02-15T12:22:44.960592Z"
    },
    "papermill": {
     "duration": 2.85913,
     "end_time": "2024-02-15T12:22:44.963991",
     "exception": false,
     "start_time": "2024-02-15T12:22:42.104861",
     "status": "completed"
    },
    "tags": []
   },
   "outputs": [],
   "source": [
    "X_train_bow=bow.fit_transform(X_train[\"review\"]).toarray()\n",
    "X_test_bow=bow.transform(X_test[\"review\"]).toarray()"
   ]
  },
  {
   "cell_type": "code",
   "execution_count": 25,
   "id": "c9a65259",
   "metadata": {
    "execution": {
     "iopub.execute_input": "2024-02-15T12:22:44.983945Z",
     "iopub.status.busy": "2024-02-15T12:22:44.983589Z",
     "iopub.status.idle": "2024-02-15T12:22:44.989953Z",
     "shell.execute_reply": "2024-02-15T12:22:44.989120Z"
    },
    "papermill": {
     "duration": 0.019038,
     "end_time": "2024-02-15T12:22:44.991893",
     "exception": false,
     "start_time": "2024-02-15T12:22:44.972855",
     "status": "completed"
    },
    "tags": []
   },
   "outputs": [],
   "source": [
    "from sklearn.naive_bayes import GaussianNB"
   ]
  },
  {
   "cell_type": "code",
   "execution_count": 26,
   "id": "7fed2314",
   "metadata": {
    "execution": {
     "iopub.execute_input": "2024-02-15T12:22:45.011264Z",
     "iopub.status.busy": "2024-02-15T12:22:45.010870Z",
     "iopub.status.idle": "2024-02-15T12:22:51.518056Z",
     "shell.execute_reply": "2024-02-15T12:22:51.516809Z"
    },
    "papermill": {
     "duration": 6.519671,
     "end_time": "2024-02-15T12:22:51.520346",
     "exception": false,
     "start_time": "2024-02-15T12:22:45.000675",
     "status": "completed"
    },
    "tags": []
   },
   "outputs": [
    {
     "data": {
      "text/html": [
       "<style>#sk-container-id-1 {color: black;background-color: white;}#sk-container-id-1 pre{padding: 0;}#sk-container-id-1 div.sk-toggleable {background-color: white;}#sk-container-id-1 label.sk-toggleable__label {cursor: pointer;display: block;width: 100%;margin-bottom: 0;padding: 0.3em;box-sizing: border-box;text-align: center;}#sk-container-id-1 label.sk-toggleable__label-arrow:before {content: \"▸\";float: left;margin-right: 0.25em;color: #696969;}#sk-container-id-1 label.sk-toggleable__label-arrow:hover:before {color: black;}#sk-container-id-1 div.sk-estimator:hover label.sk-toggleable__label-arrow:before {color: black;}#sk-container-id-1 div.sk-toggleable__content {max-height: 0;max-width: 0;overflow: hidden;text-align: left;background-color: #f0f8ff;}#sk-container-id-1 div.sk-toggleable__content pre {margin: 0.2em;color: black;border-radius: 0.25em;background-color: #f0f8ff;}#sk-container-id-1 input.sk-toggleable__control:checked~div.sk-toggleable__content {max-height: 200px;max-width: 100%;overflow: auto;}#sk-container-id-1 input.sk-toggleable__control:checked~label.sk-toggleable__label-arrow:before {content: \"▾\";}#sk-container-id-1 div.sk-estimator input.sk-toggleable__control:checked~label.sk-toggleable__label {background-color: #d4ebff;}#sk-container-id-1 div.sk-label input.sk-toggleable__control:checked~label.sk-toggleable__label {background-color: #d4ebff;}#sk-container-id-1 input.sk-hidden--visually {border: 0;clip: rect(1px 1px 1px 1px);clip: rect(1px, 1px, 1px, 1px);height: 1px;margin: -1px;overflow: hidden;padding: 0;position: absolute;width: 1px;}#sk-container-id-1 div.sk-estimator {font-family: monospace;background-color: #f0f8ff;border: 1px dotted black;border-radius: 0.25em;box-sizing: border-box;margin-bottom: 0.5em;}#sk-container-id-1 div.sk-estimator:hover {background-color: #d4ebff;}#sk-container-id-1 div.sk-parallel-item::after {content: \"\";width: 100%;border-bottom: 1px solid gray;flex-grow: 1;}#sk-container-id-1 div.sk-label:hover label.sk-toggleable__label {background-color: #d4ebff;}#sk-container-id-1 div.sk-serial::before {content: \"\";position: absolute;border-left: 1px solid gray;box-sizing: border-box;top: 0;bottom: 0;left: 50%;z-index: 0;}#sk-container-id-1 div.sk-serial {display: flex;flex-direction: column;align-items: center;background-color: white;padding-right: 0.2em;padding-left: 0.2em;position: relative;}#sk-container-id-1 div.sk-item {position: relative;z-index: 1;}#sk-container-id-1 div.sk-parallel {display: flex;align-items: stretch;justify-content: center;background-color: white;position: relative;}#sk-container-id-1 div.sk-item::before, #sk-container-id-1 div.sk-parallel-item::before {content: \"\";position: absolute;border-left: 1px solid gray;box-sizing: border-box;top: 0;bottom: 0;left: 50%;z-index: -1;}#sk-container-id-1 div.sk-parallel-item {display: flex;flex-direction: column;z-index: 1;position: relative;background-color: white;}#sk-container-id-1 div.sk-parallel-item:first-child::after {align-self: flex-end;width: 50%;}#sk-container-id-1 div.sk-parallel-item:last-child::after {align-self: flex-start;width: 50%;}#sk-container-id-1 div.sk-parallel-item:only-child::after {width: 0;}#sk-container-id-1 div.sk-dashed-wrapped {border: 1px dashed gray;margin: 0 0.4em 0.5em 0.4em;box-sizing: border-box;padding-bottom: 0.4em;background-color: white;}#sk-container-id-1 div.sk-label label {font-family: monospace;font-weight: bold;display: inline-block;line-height: 1.2em;}#sk-container-id-1 div.sk-label-container {text-align: center;}#sk-container-id-1 div.sk-container {/* jupyter's `normalize.less` sets `[hidden] { display: none; }` but bootstrap.min.css set `[hidden] { display: none !important; }` so we also need the `!important` here to be able to override the default hidden behavior on the sphinx rendered scikit-learn.org. See: https://github.com/scikit-learn/scikit-learn/issues/21755 */display: inline-block !important;position: relative;}#sk-container-id-1 div.sk-text-repr-fallback {display: none;}</style><div id=\"sk-container-id-1\" class=\"sk-top-container\"><div class=\"sk-text-repr-fallback\"><pre>GaussianNB()</pre><b>In a Jupyter environment, please rerun this cell to show the HTML representation or trust the notebook. <br />On GitHub, the HTML representation is unable to render, please try loading this page with nbviewer.org.</b></div><div class=\"sk-container\" hidden><div class=\"sk-item\"><div class=\"sk-estimator sk-toggleable\"><input class=\"sk-toggleable__control sk-hidden--visually\" id=\"sk-estimator-id-1\" type=\"checkbox\" checked><label for=\"sk-estimator-id-1\" class=\"sk-toggleable__label sk-toggleable__label-arrow\">GaussianNB</label><div class=\"sk-toggleable__content\"><pre>GaussianNB()</pre></div></div></div></div></div>"
      ],
      "text/plain": [
       "GaussianNB()"
      ]
     },
     "execution_count": 26,
     "metadata": {},
     "output_type": "execute_result"
    }
   ],
   "source": [
    "gnb=GaussianNB()\n",
    "\n",
    "gnb.fit(X_train_bow,y_train)"
   ]
  },
  {
   "cell_type": "code",
   "execution_count": 27,
   "id": "e1ee750a",
   "metadata": {
    "execution": {
     "iopub.execute_input": "2024-02-15T12:22:51.540825Z",
     "iopub.status.busy": "2024-02-15T12:22:51.539896Z",
     "iopub.status.idle": "2024-02-15T12:22:53.049391Z",
     "shell.execute_reply": "2024-02-15T12:22:53.048233Z"
    },
    "papermill": {
     "duration": 1.5225,
     "end_time": "2024-02-15T12:22:53.052082",
     "exception": false,
     "start_time": "2024-02-15T12:22:51.529582",
     "status": "completed"
    },
    "tags": []
   },
   "outputs": [],
   "source": [
    "y_pred=gnb.predict(X_test_bow)"
   ]
  },
  {
   "cell_type": "code",
   "execution_count": 28,
   "id": "d239a85c",
   "metadata": {
    "execution": {
     "iopub.execute_input": "2024-02-15T12:22:53.072681Z",
     "iopub.status.busy": "2024-02-15T12:22:53.072301Z",
     "iopub.status.idle": "2024-02-15T12:22:53.076935Z",
     "shell.execute_reply": "2024-02-15T12:22:53.075813Z"
    },
    "papermill": {
     "duration": 0.01754,
     "end_time": "2024-02-15T12:22:53.079175",
     "exception": false,
     "start_time": "2024-02-15T12:22:53.061635",
     "status": "completed"
    },
    "tags": []
   },
   "outputs": [],
   "source": [
    "from sklearn.metrics import accuracy_score"
   ]
  },
  {
   "cell_type": "code",
   "execution_count": 29,
   "id": "e3433719",
   "metadata": {
    "execution": {
     "iopub.execute_input": "2024-02-15T12:22:53.099469Z",
     "iopub.status.busy": "2024-02-15T12:22:53.098793Z",
     "iopub.status.idle": "2024-02-15T12:22:53.105243Z",
     "shell.execute_reply": "2024-02-15T12:22:53.104182Z"
    },
    "papermill": {
     "duration": 0.018829,
     "end_time": "2024-02-15T12:22:53.107233",
     "exception": false,
     "start_time": "2024-02-15T12:22:53.088404",
     "status": "completed"
    },
    "tags": []
   },
   "outputs": [
    {
     "data": {
      "text/plain": [
       "0.627941912869304"
      ]
     },
     "execution_count": 29,
     "metadata": {},
     "output_type": "execute_result"
    }
   ],
   "source": [
    "accuracy_score(y_pred,y_test)"
   ]
  },
  {
   "cell_type": "code",
   "execution_count": 30,
   "id": "5fdd3b02",
   "metadata": {
    "execution": {
     "iopub.execute_input": "2024-02-15T12:22:53.127750Z",
     "iopub.status.busy": "2024-02-15T12:22:53.126683Z",
     "iopub.status.idle": "2024-02-15T12:24:03.435193Z",
     "shell.execute_reply": "2024-02-15T12:24:03.434107Z"
    },
    "papermill": {
     "duration": 70.329454,
     "end_time": "2024-02-15T12:24:03.445858",
     "exception": false,
     "start_time": "2024-02-15T12:22:53.116404",
     "status": "completed"
    },
    "tags": []
   },
   "outputs": [
    {
     "data": {
      "text/plain": [
       "0.8492739108662994"
      ]
     },
     "execution_count": 30,
     "metadata": {},
     "output_type": "execute_result"
    }
   ],
   "source": [
    "from sklearn.ensemble import RandomForestClassifier\n",
    "rf = RandomForestClassifier()\n",
    "\n",
    "rf.fit(X_train_bow,y_train)\n",
    "y_pred_rf = rf.predict(X_test_bow)\n",
    "accuracy_score(y_test,y_pred_rf)"
   ]
  },
  {
   "cell_type": "code",
   "execution_count": 31,
   "id": "9779906f",
   "metadata": {
    "execution": {
     "iopub.execute_input": "2024-02-15T12:24:03.465880Z",
     "iopub.status.busy": "2024-02-15T12:24:03.465521Z",
     "iopub.status.idle": "2024-02-15T12:24:03.472092Z",
     "shell.execute_reply": "2024-02-15T12:24:03.470934Z"
    },
    "papermill": {
     "duration": 0.019212,
     "end_time": "2024-02-15T12:24:03.474230",
     "exception": false,
     "start_time": "2024-02-15T12:24:03.455018",
     "status": "completed"
    },
    "tags": []
   },
   "outputs": [
    {
     "data": {
      "text/plain": [
       "48247"
      ]
     },
     "execution_count": 31,
     "metadata": {},
     "output_type": "execute_result"
    }
   ],
   "source": [
    "len(bow.vocabulary_)"
   ]
  },
  {
   "cell_type": "code",
   "execution_count": 32,
   "id": "4fc5780d",
   "metadata": {
    "execution": {
     "iopub.execute_input": "2024-02-15T12:24:03.495351Z",
     "iopub.status.busy": "2024-02-15T12:24:03.494936Z",
     "iopub.status.idle": "2024-02-15T12:24:03.499694Z",
     "shell.execute_reply": "2024-02-15T12:24:03.498644Z"
    },
    "papermill": {
     "duration": 0.018047,
     "end_time": "2024-02-15T12:24:03.501609",
     "exception": false,
     "start_time": "2024-02-15T12:24:03.483562",
     "status": "completed"
    },
    "tags": []
   },
   "outputs": [],
   "source": [
    "# we can decrease  max_features =3000 and seen that less the max_feature means less words from vocabulary accuracy will be good"
   ]
  },
  {
   "cell_type": "code",
   "execution_count": 33,
   "id": "9506dde2",
   "metadata": {
    "execution": {
     "iopub.execute_input": "2024-02-15T12:24:03.522098Z",
     "iopub.status.busy": "2024-02-15T12:24:03.521690Z",
     "iopub.status.idle": "2024-02-15T12:24:24.135101Z",
     "shell.execute_reply": "2024-02-15T12:24:24.134102Z"
    },
    "papermill": {
     "duration": 20.626302,
     "end_time": "2024-02-15T12:24:24.137302",
     "exception": false,
     "start_time": "2024-02-15T12:24:03.511000",
     "status": "completed"
    },
    "tags": []
   },
   "outputs": [
    {
     "data": {
      "text/plain": [
       "0.8467701552328493"
      ]
     },
     "execution_count": 33,
     "metadata": {},
     "output_type": "execute_result"
    }
   ],
   "source": [
    "cv = CountVectorizer(ngram_range=(1,2),max_features=5000)\n",
    "\n",
    "X_train_bow = cv.fit_transform(X_train['review']).toarray()\n",
    "X_test_bow = cv.transform(X_test['review']).toarray()\n",
    "\n",
    "rf = RandomForestClassifier()\n",
    "\n",
    "rf.fit(X_train_bow,y_train)\n",
    "y_pred_ng = rf.predict(X_test_bow)\n",
    "accuracy_score(y_test,y_pred_ng)"
   ]
  },
  {
   "cell_type": "code",
   "execution_count": 34,
   "id": "fb927472",
   "metadata": {
    "execution": {
     "iopub.execute_input": "2024-02-15T12:24:24.157904Z",
     "iopub.status.busy": "2024-02-15T12:24:24.157554Z",
     "iopub.status.idle": "2024-02-15T12:25:37.327234Z",
     "shell.execute_reply": "2024-02-15T12:25:37.326460Z"
    },
    "papermill": {
     "duration": 73.191988,
     "end_time": "2024-02-15T12:25:37.338897",
     "exception": false,
     "start_time": "2024-02-15T12:24:24.146909",
     "status": "completed"
    },
    "tags": []
   },
   "outputs": [
    {
     "data": {
      "text/plain": [
       "0.8542814221331998"
      ]
     },
     "execution_count": 34,
     "metadata": {},
     "output_type": "execute_result"
    }
   ],
   "source": [
    "from sklearn.feature_extraction.text import TfidfVectorizer\n",
    "tfidf = TfidfVectorizer()\n",
    "X_train_tfidf = tfidf.fit_transform(X_train['review']).toarray()\n",
    "X_test_tfidf = tfidf.transform(X_test['review'])\n",
    "rf = RandomForestClassifier()\n",
    "\n",
    "rf.fit(X_train_tfidf,y_train)\n",
    "y_pred_tf = rf.predict(X_test_tfidf)\n",
    "\n",
    "accuracy_score(y_test,y_pred_tf)"
   ]
  },
  {
   "cell_type": "code",
   "execution_count": null,
   "id": "cd147e80",
   "metadata": {
    "papermill": {
     "duration": 0.009336,
     "end_time": "2024-02-15T12:25:37.357707",
     "exception": false,
     "start_time": "2024-02-15T12:25:37.348371",
     "status": "completed"
    },
    "tags": []
   },
   "outputs": [],
   "source": []
  }
 ],
 "metadata": {
  "kaggle": {
   "accelerator": "none",
   "dataSources": [
    {
     "datasetId": 134715,
     "sourceId": 320111,
     "sourceType": "datasetVersion"
    }
   ],
   "dockerImageVersionId": 30646,
   "isGpuEnabled": false,
   "isInternetEnabled": true,
   "language": "python",
   "sourceType": "notebook"
  },
  "kernelspec": {
   "display_name": "Python 3",
   "language": "python",
   "name": "python3"
  },
  "language_info": {
   "codemirror_mode": {
    "name": "ipython",
    "version": 3
   },
   "file_extension": ".py",
   "mimetype": "text/x-python",
   "name": "python",
   "nbconvert_exporter": "python",
   "pygments_lexer": "ipython3",
   "version": "3.10.13"
  },
  "papermill": {
   "default_parameters": {},
   "duration": 188.342233,
   "end_time": "2024-02-15T12:25:38.290411",
   "environment_variables": {},
   "exception": null,
   "input_path": "__notebook__.ipynb",
   "output_path": "__notebook__.ipynb",
   "parameters": {},
   "start_time": "2024-02-15T12:22:29.948178",
   "version": "2.5.0"
  }
 },
 "nbformat": 4,
 "nbformat_minor": 5
}
